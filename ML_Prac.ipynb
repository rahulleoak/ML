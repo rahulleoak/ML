{
  "nbformat": 4,
  "nbformat_minor": 0,
  "metadata": {
    "colab": {
      "name": "ML_Prac",
      "provenance": []
    },
    "kernelspec": {
      "name": "python3",
      "display_name": "Python 3"
    }
  },
  "cells": [
    {
      "cell_type": "markdown",
      "metadata": {
        "id": "X7RDhZsQqMRD",
        "colab_type": "text"
      },
      "source": [
        "##Linear Regression *(via Sum and Mean)*"
      ]
    },
    {
      "cell_type": "code",
      "metadata": {
        "id": "hrwXovP6qHxJ",
        "colab_type": "code",
        "colab": {}
      },
      "source": [
        "import numpy as np\n",
        "import pandas as pd"
      ],
      "execution_count": 0,
      "outputs": []
    },
    {
      "cell_type": "code",
      "metadata": {
        "id": "eOPWotx8wpiw",
        "colab_type": "code",
        "colab": {}
      },
      "source": [
        "def estimate_coeff(x,y):\n",
        "  n = np.size(x)\n",
        "  m_x,m_y = np.mean(x),np.mean(y)\n",
        "\n",
        "  SS_xy = np.sum(y*x) - n*m_y*m_x\n",
        "  SS_xx = np.sum(x*x) - n*m_x*m_x\n",
        "\n",
        "  b_1 = SS_xy/SS_xx\n",
        "  b_0 = m_y - b_1 * m_x\n",
        "\n",
        "  return(b_0,b_1)"
      ],
      "execution_count": 0,
      "outputs": []
    },
    {
      "cell_type": "code",
      "metadata": {
        "id": "XQAX9ZPcxO6u",
        "colab_type": "code",
        "outputId": "7e4d858c-fa7a-4653-92d1-1bb376902122",
        "colab": {
          "base_uri": "https://localhost:8080/",
          "height": 68
        }
      },
      "source": [
        "if __name__=='__main__':\n",
        "  x = np.array([0,1,2,3,4,5,6,7,8,9])\n",
        "  y = np.array([1,3,2,5,7,8,8,9,10,12])\n",
        "\n",
        "  b = estimate_coeff(x,y)\n",
        "  print(\"Estimated coefficient:\\nb_0={} \\nb_1 = {}\".format(b[0],b[1]))"
      ],
      "execution_count": 0,
      "outputs": [
        {
          "output_type": "stream",
          "text": [
            "Estimated coefficient:\n",
            "b_0=1.2363636363636363 \n",
            "b_1 = 1.1696969696969697\n"
          ],
          "name": "stdout"
        }
      ]
    },
    {
      "cell_type": "code",
      "metadata": {
        "id": "3e6QzVXU00x0",
        "colab_type": "code",
        "colab": {}
      },
      "source": [
        ""
      ],
      "execution_count": 0,
      "outputs": []
    },
    {
      "cell_type": "markdown",
      "metadata": {
        "id": "BL4vDGn-e8mW",
        "colab_type": "text"
      },
      "source": [
        "# Lin Reg *(via Matrix)*\n"
      ]
    },
    {
      "cell_type": "code",
      "metadata": {
        "id": "4mgpn6JPTn3N",
        "colab_type": "code",
        "colab": {}
      },
      "source": [
        "import pandas as pd\n",
        "import numpy as np\n",
        "\n",
        "from google.colab import drive\n",
        "drive.mount('/content/drive')"
      ],
      "execution_count": 0,
      "outputs": []
    },
    {
      "cell_type": "code",
      "metadata": {
        "id": "MQVN_-uZT4zQ",
        "colab_type": "code",
        "colab": {}
      },
      "source": [
        "def reshape_data(x):\n",
        "  x.reshape(-1,1)"
      ],
      "execution_count": 0,
      "outputs": []
    },
    {
      "cell_type": "code",
      "metadata": {
        "id": "72yTuOqMUCgJ",
        "colab_type": "code",
        "colab": {}
      },
      "source": [
        "def concat_ones(x):\n",
        "  ones_data = np.ones(shape=x.shape[0]).reshape(-1,1)\n",
        "  return np.concatenate((ones_data,x),1)"
      ],
      "execution_count": 0,
      "outputs": []
    },
    {
      "cell_type": "code",
      "metadata": {
        "id": "LGZ20zzuUVsI",
        "colab_type": "code",
        "colab": {}
      },
      "source": [
        "def fit_data(coeff):\n",
        "  coeff = np.linalg.inv(x.transpose().dot(x)).dot(x.transpose()).dot(y)\n",
        "  return coeff"
      ],
      "execution_count": 0,
      "outputs": []
    },
    {
      "cell_type": "code",
      "metadata": {
        "colab_type": "code",
        "outputId": "694427c5-3ae5-4d44-9a65-89aa9c9bc94f",
        "id": "v3dSF2NqdjXy",
        "colab": {
          "base_uri": "https://localhost:8080/",
          "height": 697
        }
      },
      "source": [
        "if __name__ == \"__main__\":\n",
        "  coeff = []\n",
        "  data = pd.read_csv(\"/content/sample_data/california_housing_train.csv\")\n",
        "  print(data.head())\n",
        "  \n",
        "  x = data.drop(columns=['median_house_value']).values\n",
        "  y = data['median_house_value'].values\n",
        "\n",
        "  reshape_data(x)\n",
        "  print(\"After Reshaping \\n: \",x)\n",
        "\n",
        "  x = concat_ones(x)\n",
        "  print(\"After Concatenation \\n: \",x,\"\\n\")\n",
        "  \n",
        "  coeff = fit_data(coeff)\n",
        "  var_count = 0\n",
        "  for val in coeff:\n",
        "    print(\"Coeff \",var_count,\": \",val)\n",
        "    var_count+=1"
      ],
      "execution_count": 10,
      "outputs": [
        {
          "output_type": "stream",
          "text": [
            "   longitude  latitude  ...  median_income  median_house_value\n",
            "0    -114.31     34.19  ...         1.4936             66900.0\n",
            "1    -114.47     34.40  ...         1.8200             80100.0\n",
            "2    -114.56     33.69  ...         1.6509             85700.0\n",
            "3    -114.57     33.64  ...         3.1917             73400.0\n",
            "4    -114.57     33.57  ...         1.9250             65500.0\n",
            "\n",
            "[5 rows x 9 columns]\n",
            "After Reshaping \n",
            ":  [[-114.31     34.19     15.     ... 1015.      472.        1.4936]\n",
            " [-114.47     34.4      19.     ... 1129.      463.        1.82  ]\n",
            " [-114.56     33.69     17.     ...  333.      117.        1.6509]\n",
            " ...\n",
            " [-124.3      41.84     17.     ... 1244.      456.        3.0313]\n",
            " [-124.3      41.8      19.     ... 1298.      478.        1.9797]\n",
            " [-124.35     40.54     52.     ...  806.      270.        3.0147]]\n",
            "After Concatenation \n",
            ":  [[ 1.0000e+00 -1.1431e+02  3.4190e+01 ...  1.0150e+03  4.7200e+02\n",
            "   1.4936e+00]\n",
            " [ 1.0000e+00 -1.1447e+02  3.4400e+01 ...  1.1290e+03  4.6300e+02\n",
            "   1.8200e+00]\n",
            " [ 1.0000e+00 -1.1456e+02  3.3690e+01 ...  3.3300e+02  1.1700e+02\n",
            "   1.6509e+00]\n",
            " ...\n",
            " [ 1.0000e+00 -1.2430e+02  4.1840e+01 ...  1.2440e+03  4.5600e+02\n",
            "   3.0313e+00]\n",
            " [ 1.0000e+00 -1.2430e+02  4.1800e+01 ...  1.2980e+03  4.7800e+02\n",
            "   1.9797e+00]\n",
            " [ 1.0000e+00 -1.2435e+02  4.0540e+01 ...  8.0600e+02  2.7000e+02\n",
            "   3.0147e+00]] \n",
            "\n",
            "Coeff  0 :  -3620600.892850461\n",
            "Coeff  1 :  -43139.637256165515\n",
            "Coeff  2 :  -42925.67308705683\n",
            "Coeff  3 :  1150.6949324974405\n",
            "Coeff  4 :  -8.378251213494872\n",
            "Coeff  5 :  117.64854284095364\n",
            "Coeff  6 :  -38.488772095975385\n",
            "Coeff  7 :  45.4360025553681\n",
            "Coeff  8 :  40507.06835961422\n"
          ],
          "name": "stdout"
        }
      ]
    },
    {
      "cell_type": "markdown",
      "metadata": {
        "id": "jOGOviNwfV22",
        "colab_type": "text"
      },
      "source": [
        "# Linear Regression *(via Numpy Package)*"
      ]
    },
    {
      "cell_type": "code",
      "metadata": {
        "id": "b6oaefwGfX0T",
        "colab_type": "code",
        "colab": {}
      },
      "source": [
        "import pandas as pd\n",
        "import numpy as np\n",
        "\n",
        "from google.colab import drive\n",
        "drive.mount('/content/drive')"
      ],
      "execution_count": 0,
      "outputs": []
    },
    {
      "cell_type": "code",
      "metadata": {
        "id": "d1jiPunSfjiJ",
        "colab_type": "code",
        "colab": {
          "base_uri": "https://localhost:8080/",
          "height": 170
        },
        "outputId": "07a96b6f-b199-493c-e846-d220d14f13ad"
      },
      "source": [
        "if __name__ == \"__main__\":\n",
        "  x1= data.drop(columns=['median_house_value']).values\n",
        "  x1 = np.array(x).T\n",
        "  y1 = data['median_house_value'].values  \n",
        "  \n",
        "  est = np.linalg.lstsq(x,y, rcond=None)[0]\n",
        "  \n",
        "  var_count = 0\n",
        "  for val in est:\n",
        "    print(\"EST \",var_count,\": \",val)\n",
        "    var_count+=1"
      ],
      "execution_count": 9,
      "outputs": [
        {
          "output_type": "stream",
          "text": [
            "EST  0 :  -3620600.892974251\n",
            "EST  1 :  -43139.63725758856\n",
            "EST  2 :  -42925.67308831491\n",
            "EST  3 :  1150.6949324743741\n",
            "EST  4 :  -8.378251213194744\n",
            "EST  5 :  117.64854284208832\n",
            "EST  6 :  -38.48877209597049\n",
            "EST  7 :  45.43600255224828\n",
            "EST  8 :  40507.06835939737\n"
          ],
          "name": "stdout"
        }
      ]
    },
    {
      "cell_type": "markdown",
      "metadata": {
        "id": "AvWjD4k3jRKt",
        "colab_type": "text"
      },
      "source": [
        "# KNN"
      ]
    },
    {
      "cell_type": "code",
      "metadata": {
        "id": "0db3qNjcjTwF",
        "colab_type": "code",
        "colab": {}
      },
      "source": [
        "import pandas as pd\n",
        "import numpy as np\n",
        "import operator\n",
        "\n",
        "from google.colab import drive\n",
        "drive.mount('/content/drive')"
      ],
      "execution_count": 0,
      "outputs": []
    },
    {
      "cell_type": "code",
      "metadata": {
        "id": "0-iMTBykjeyT",
        "colab_type": "code",
        "colab": {}
      },
      "source": [
        "def euc_distance(x1, x2, length): \n",
        "    distance = 0\n",
        "    for x in range(length):\n",
        "        distance += np.square(x1[x] - x2[x])\n",
        "    return np.sqrt(distance)"
      ],
      "execution_count": 0,
      "outputs": []
    },
    {
      "cell_type": "code",
      "metadata": {
        "id": "vBQe-Opxj2do",
        "colab_type": "code",
        "colab": {}
      },
      "source": [
        "def knn (train,test,k):\n",
        "  distance = {}\n",
        "\n",
        "  #find no. of col\n",
        "  length = test.shape[1]\n",
        "\n",
        "  for x in range(len(train)):\n",
        "    dist = euc_distance(test,train.iloc[x],length)\n",
        "    distance[x] = dist[0]\n",
        "  sort_dist = sorted(distance.items(),key=operator.itemgetter(1))\n",
        "\n",
        "  #Place index of col to start w/\n",
        "  neighbors = []\n",
        "  for x in range(k):\n",
        "    neighbors.append(sort_dist[x][0])\n",
        "  \n",
        "  #Calc freq class of rows\n",
        "  Votes = {}\n",
        "  for x in range(len(neighbors)):\n",
        "    #get last col\n",
        "    resp = train.iloc[neighbors[x]][-1]\n",
        "\n",
        "    if resp in Votes:\n",
        "      Votes[resp] +=1\n",
        "    else:\n",
        "      Votes[resp] = 1\n",
        "  \n",
        "  #Append variety to dict w/count\n",
        "  sort_votes = sorted(Votes.items(),key=operator.itemgetter(1),reverse=True)\n",
        "  \n",
        "  return(sort_votes[0][0],neighbors)"
      ],
      "execution_count": 0,
      "outputs": []
    },
    {
      "cell_type": "code",
      "metadata": {
        "id": "af_egsSHrK6V",
        "colab_type": "code",
        "colab": {
          "base_uri": "https://localhost:8080/",
          "height": 51
        },
        "outputId": "a1fe32f5-d244-458e-bd88-4890b9adc683"
      },
      "source": [
        "if __name__ == \"__main__\":\n",
        "  data = pd.read_csv(\"/content/drive/My Drive/Colab Notebooks/iris.csv\")\n",
        "  \n",
        "  test = [[5.1,3.5,1.4,.4]]\n",
        "  test = pd.DataFrame(test)\n",
        "\n",
        "  res,n = knn(data,test,6)\n",
        "  print(res)\n",
        "  print(n)\n",
        "  "
      ],
      "execution_count": 194,
      "outputs": [
        {
          "output_type": "stream",
          "text": [
            "Setosa\n",
            "[17, 40, 0, 21, 4, 26]\n"
          ],
          "name": "stdout"
        }
      ]
    },
    {
      "cell_type": "markdown",
      "metadata": {
        "id": "yIZC4mgC3yVT",
        "colab_type": "text"
      },
      "source": [
        "# NB Classifier (via sklearn)"
      ]
    },
    {
      "cell_type": "code",
      "metadata": {
        "id": "rvO71dqt30sO",
        "colab_type": "code",
        "colab": {}
      },
      "source": [
        "import pandas as pd\n",
        "from sklearn.model_selection import train_test_split\n",
        "from sklearn.naive_bayes import BernoulliNB,GaussianNB\n",
        "from sklearn.metrics import classification_report,confusion_matrix"
      ],
      "execution_count": 0,
      "outputs": []
    },
    {
      "cell_type": "code",
      "metadata": {
        "id": "ioj99dkK31kO",
        "colab_type": "code",
        "colab": {}
      },
      "source": [
        "data = pd.read_csv(\"/content/drive/My Drive/Colab Notebooks/iris.csv\")\n",
        "\n",
        "#Save class type and drop\n",
        "result = data['variety']\n",
        "data=data.drop(columns=['variety'])  "
      ],
      "execution_count": 0,
      "outputs": []
    },
    {
      "cell_type": "code",
      "metadata": {
        "id": "bAdabSfA3-MS",
        "colab_type": "code",
        "colab": {}
      },
      "source": [
        "x_train,x_test,y_train,y_test = train_test_split(data,result,train_size=0.7)"
      ],
      "execution_count": 0,
      "outputs": []
    },
    {
      "cell_type": "code",
      "metadata": {
        "id": "D1ySotF54yhR",
        "colab_type": "code",
        "colab": {
          "base_uri": "https://localhost:8080/",
          "height": 204
        },
        "outputId": "56a4c879-07f6-49c8-bcc4-1abf722b87dd"
      },
      "source": [
        "x_train.head()"
      ],
      "execution_count": 128,
      "outputs": [
        {
          "output_type": "execute_result",
          "data": {
            "text/html": [
              "<div>\n",
              "<style scoped>\n",
              "    .dataframe tbody tr th:only-of-type {\n",
              "        vertical-align: middle;\n",
              "    }\n",
              "\n",
              "    .dataframe tbody tr th {\n",
              "        vertical-align: top;\n",
              "    }\n",
              "\n",
              "    .dataframe thead th {\n",
              "        text-align: right;\n",
              "    }\n",
              "</style>\n",
              "<table border=\"1\" class=\"dataframe\">\n",
              "  <thead>\n",
              "    <tr style=\"text-align: right;\">\n",
              "      <th></th>\n",
              "      <th>sepal.length</th>\n",
              "      <th>sepal.width</th>\n",
              "      <th>petal.length</th>\n",
              "      <th>petal.width</th>\n",
              "    </tr>\n",
              "  </thead>\n",
              "  <tbody>\n",
              "    <tr>\n",
              "      <th>84</th>\n",
              "      <td>5.4</td>\n",
              "      <td>3.0</td>\n",
              "      <td>4.5</td>\n",
              "      <td>1.5</td>\n",
              "    </tr>\n",
              "    <tr>\n",
              "      <th>81</th>\n",
              "      <td>5.5</td>\n",
              "      <td>2.4</td>\n",
              "      <td>3.7</td>\n",
              "      <td>1.0</td>\n",
              "    </tr>\n",
              "    <tr>\n",
              "      <th>110</th>\n",
              "      <td>6.5</td>\n",
              "      <td>3.2</td>\n",
              "      <td>5.1</td>\n",
              "      <td>2.0</td>\n",
              "    </tr>\n",
              "    <tr>\n",
              "      <th>107</th>\n",
              "      <td>7.3</td>\n",
              "      <td>2.9</td>\n",
              "      <td>6.3</td>\n",
              "      <td>1.8</td>\n",
              "    </tr>\n",
              "    <tr>\n",
              "      <th>140</th>\n",
              "      <td>6.7</td>\n",
              "      <td>3.1</td>\n",
              "      <td>5.6</td>\n",
              "      <td>2.4</td>\n",
              "    </tr>\n",
              "  </tbody>\n",
              "</table>\n",
              "</div>"
            ],
            "text/plain": [
              "     sepal.length  sepal.width  petal.length  petal.width\n",
              "84            5.4          3.0           4.5          1.5\n",
              "81            5.5          2.4           3.7          1.0\n",
              "110           6.5          3.2           5.1          2.0\n",
              "107           7.3          2.9           6.3          1.8\n",
              "140           6.7          3.1           5.6          2.4"
            ]
          },
          "metadata": {
            "tags": []
          },
          "execution_count": 128
        }
      ]
    },
    {
      "cell_type": "code",
      "metadata": {
        "id": "94ndeKhM43xu",
        "colab_type": "code",
        "colab": {
          "base_uri": "https://localhost:8080/",
          "height": 119
        },
        "outputId": "34c5d199-de5e-4591-8119-ada082d8390d"
      },
      "source": [
        "y_train.head()"
      ],
      "execution_count": 129,
      "outputs": [
        {
          "output_type": "execute_result",
          "data": {
            "text/plain": [
              "84     Versicolor\n",
              "81     Versicolor\n",
              "110     Virginica\n",
              "107     Virginica\n",
              "140     Virginica\n",
              "Name: variety, dtype: object"
            ]
          },
          "metadata": {
            "tags": []
          },
          "execution_count": 129
        }
      ]
    },
    {
      "cell_type": "code",
      "metadata": {
        "id": "PRe_Mvmc45tX",
        "colab_type": "code",
        "colab": {}
      },
      "source": [
        "bnb = BernoulliNB()\n",
        "bnb.fit(x_train,y_train)\n",
        "y_pred = bnb.predict(x_test)"
      ],
      "execution_count": 0,
      "outputs": []
    },
    {
      "cell_type": "code",
      "metadata": {
        "id": "kWJqFWkS5Owg",
        "colab_type": "code",
        "colab": {
          "base_uri": "https://localhost:8080/",
          "height": 241
        },
        "outputId": "95159340-c369-46a4-eb3a-1ba89a47f2f7"
      },
      "source": [
        "print(classification_report(y_test,y_pred))\n"
      ],
      "execution_count": 150,
      "outputs": [
        {
          "output_type": "stream",
          "text": [
            "              precision    recall  f1-score   support\n",
            "\n",
            "      Setosa       0.00      0.00      0.00        19\n",
            "  Versicolor       0.24      1.00      0.39        11\n",
            "   Virginica       0.00      0.00      0.00        15\n",
            "\n",
            "    accuracy                           0.24        45\n",
            "   macro avg       0.08      0.33      0.13        45\n",
            "weighted avg       0.06      0.24      0.10        45\n",
            "\n"
          ],
          "name": "stdout"
        },
        {
          "output_type": "stream",
          "text": [
            "/usr/local/lib/python3.6/dist-packages/sklearn/metrics/_classification.py:1272: UndefinedMetricWarning: Precision and F-score are ill-defined and being set to 0.0 in labels with no predicted samples. Use `zero_division` parameter to control this behavior.\n",
            "  _warn_prf(average, modifier, msg_start, len(result))\n"
          ],
          "name": "stderr"
        }
      ]
    },
    {
      "cell_type": "code",
      "metadata": {
        "id": "Jb5Lfgxq5d1N",
        "colab_type": "code",
        "colab": {
          "base_uri": "https://localhost:8080/",
          "height": 68
        },
        "outputId": "b60010fb-0f5e-4a52-8043-d640892eccfe"
      },
      "source": [
        "print(confusion_matrix(y_test,y_pred))"
      ],
      "execution_count": 151,
      "outputs": [
        {
          "output_type": "stream",
          "text": [
            "[[ 0 19  0]\n",
            " [ 0 11  0]\n",
            " [ 0 15  0]]\n"
          ],
          "name": "stdout"
        }
      ]
    },
    {
      "cell_type": "code",
      "metadata": {
        "id": "h6RvJ78V5mMB",
        "colab_type": "code",
        "colab": {
          "base_uri": "https://localhost:8080/",
          "height": 782
        },
        "outputId": "168eef70-5e52-421b-de32-23c5cea33d7b"
      },
      "source": [
        "#print(y_test)\n",
        "#print(y_pred)\n",
        "bnb.predict_proba(x_test)"
      ],
      "execution_count": 153,
      "outputs": [
        {
          "output_type": "execute_result",
          "data": {
            "text/plain": [
              "array([[0.29125667, 0.37543882, 0.33330451],\n",
              "       [0.29125667, 0.37543882, 0.33330451],\n",
              "       [0.29125667, 0.37543882, 0.33330451],\n",
              "       [0.29125667, 0.37543882, 0.33330451],\n",
              "       [0.29125667, 0.37543882, 0.33330451],\n",
              "       [0.29125667, 0.37543882, 0.33330451],\n",
              "       [0.29125667, 0.37543882, 0.33330451],\n",
              "       [0.29125667, 0.37543882, 0.33330451],\n",
              "       [0.29125667, 0.37543882, 0.33330451],\n",
              "       [0.29125667, 0.37543882, 0.33330451],\n",
              "       [0.29125667, 0.37543882, 0.33330451],\n",
              "       [0.29125667, 0.37543882, 0.33330451],\n",
              "       [0.29125667, 0.37543882, 0.33330451],\n",
              "       [0.29125667, 0.37543882, 0.33330451],\n",
              "       [0.29125667, 0.37543882, 0.33330451],\n",
              "       [0.29125667, 0.37543882, 0.33330451],\n",
              "       [0.29125667, 0.37543882, 0.33330451],\n",
              "       [0.29125667, 0.37543882, 0.33330451],\n",
              "       [0.29125667, 0.37543882, 0.33330451],\n",
              "       [0.29125667, 0.37543882, 0.33330451],\n",
              "       [0.29125667, 0.37543882, 0.33330451],\n",
              "       [0.29125667, 0.37543882, 0.33330451],\n",
              "       [0.29125667, 0.37543882, 0.33330451],\n",
              "       [0.29125667, 0.37543882, 0.33330451],\n",
              "       [0.29125667, 0.37543882, 0.33330451],\n",
              "       [0.29125667, 0.37543882, 0.33330451],\n",
              "       [0.29125667, 0.37543882, 0.33330451],\n",
              "       [0.29125667, 0.37543882, 0.33330451],\n",
              "       [0.29125667, 0.37543882, 0.33330451],\n",
              "       [0.29125667, 0.37543882, 0.33330451],\n",
              "       [0.29125667, 0.37543882, 0.33330451],\n",
              "       [0.29125667, 0.37543882, 0.33330451],\n",
              "       [0.29125667, 0.37543882, 0.33330451],\n",
              "       [0.29125667, 0.37543882, 0.33330451],\n",
              "       [0.29125667, 0.37543882, 0.33330451],\n",
              "       [0.29125667, 0.37543882, 0.33330451],\n",
              "       [0.29125667, 0.37543882, 0.33330451],\n",
              "       [0.29125667, 0.37543882, 0.33330451],\n",
              "       [0.29125667, 0.37543882, 0.33330451],\n",
              "       [0.29125667, 0.37543882, 0.33330451],\n",
              "       [0.29125667, 0.37543882, 0.33330451],\n",
              "       [0.29125667, 0.37543882, 0.33330451],\n",
              "       [0.29125667, 0.37543882, 0.33330451],\n",
              "       [0.29125667, 0.37543882, 0.33330451],\n",
              "       [0.29125667, 0.37543882, 0.33330451]])"
            ]
          },
          "metadata": {
            "tags": []
          },
          "execution_count": 153
        }
      ]
    },
    {
      "cell_type": "markdown",
      "metadata": {
        "id": "QNAY38Wy7jt2",
        "colab_type": "text"
      },
      "source": [
        "#NB Classifier"
      ]
    },
    {
      "cell_type": "code",
      "metadata": {
        "id": "JW8Siqkr7p1S",
        "colab_type": "code",
        "colab": {}
      },
      "source": [
        "import pandas as pd\n",
        "import random as rd\n",
        "import math\n",
        "import csv"
      ],
      "execution_count": 0,
      "outputs": []
    },
    {
      "cell_type": "code",
      "metadata": {
        "id": "jUlRM9Ne8T6O",
        "colab_type": "code",
        "colab": {}
      },
      "source": [
        "def split_test(data,split_ratio):\n",
        "  train_size = int(len(data)* split_ratio)\n",
        "  train_set = []\n",
        "  tmp = list(data)\n",
        "\n",
        "  while len(train_set) < train_size:\n",
        "    index = random.randrange(len(tmp))\n",
        "    train_set.append(tmp.pop(index))\n",
        "  return[train_set,copy]\n"
      ],
      "execution_count": 0,
      "outputs": []
    },
    {
      "cell_type": "code",
      "metadata": {
        "id": "GpFEPlboBQJ2",
        "colab_type": "code",
        "colab": {}
      },
      "source": [
        "def sep_class(data):\n",
        "  sep = []\n",
        "\n",
        "  for i in range(len(data)):\n",
        "    vec = data.iloc[i].values"
      ],
      "execution_count": 0,
      "outputs": []
    },
    {
      "cell_type": "code",
      "metadata": {
        "id": "r6aV2YPgA8Ox",
        "colab_type": "code",
        "colab": {
          "base_uri": "https://localhost:8080/",
          "height": 68
        },
        "outputId": "5d77c122-ca1c-4f5c-cb00-3b8c6ec4f75d"
      },
      "source": [
        "data = pd.read_csv(\"/content/drive/My Drive/Colab Notebooks/iris.csv\")\n",
        "dataset = csv.reader(open(r\"/content/drive/My Drive/Colab Notebooks/iris.csv\"))\n",
        "dataset = list(dataset)\n",
        "print(tmp)\n",
        "vec = data.iloc[0].values\n",
        "vec1 = dataset[1]\n",
        "print(vec)\n",
        "print(vec1)"
      ],
      "execution_count": 188,
      "outputs": [
        {
          "output_type": "stream",
          "text": [
            "['sepal.length', 'sepal.width', 'petal.length', 'petal.width', 'variety']\n",
            "[5.1 3.5 1.4 0.2 'Setosa']\n",
            "['5.1', '3.5', '1.4', '.2', 'Setosa']\n"
          ],
          "name": "stdout"
        }
      ]
    },
    {
      "cell_type": "code",
      "metadata": {
        "id": "8srSi_R-CNoB",
        "colab_type": "code",
        "colab": {}
      },
      "source": [
        ""
      ],
      "execution_count": 0,
      "outputs": []
    }
  ]
}